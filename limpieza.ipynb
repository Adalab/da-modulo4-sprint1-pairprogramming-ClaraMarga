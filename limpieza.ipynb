{
 "cells": [
  {
   "cell_type": "code",
   "execution_count": null,
   "metadata": {},
   "outputs": [],
   "source": [
    "import pandas as pd\n",
    "pd.set_option('display.max_rows', None)"
   ]
  },
  {
   "cell_type": "code",
   "execution_count": null,
   "metadata": {},
   "outputs": [],
   "source": [
    "df = pd.read_csv(\"data/dog_breeds.csv\")\n",
    "df.head()"
   ]
  },
  {
   "cell_type": "code",
   "execution_count": null,
   "metadata": {},
   "outputs": [],
   "source": [
    "df.rename(columns=lambda x: x.lower(), inplace=True)\n",
    "df.head(4)"
   ]
  },
  {
   "cell_type": "code",
   "execution_count": null,
   "metadata": {},
   "outputs": [],
   "source": [
    "df['breed'] = df['breed'].str.lower()\n",
    "\n"
   ]
  },
  {
   "cell_type": "code",
   "execution_count": null,
   "metadata": {},
   "outputs": [],
   "source": [
    "def convertir_a_minusculas(df):\n",
    "    for columna in df.columns:\n",
    "        if df[columna].dtype == 'object':\n",
    "            df[columna] = df[columna].str.lower()\n",
    "    return df\n",
    "\n",
    "df = convertir_a_minusculas(df)"
   ]
  },
  {
   "cell_type": "code",
   "execution_count": null,
   "metadata": {},
   "outputs": [],
   "source": [
    "df.head()"
   ]
  },
  {
   "cell_type": "code",
   "execution_count": null,
   "metadata": {},
   "outputs": [],
   "source": [
    "df_2 = pd.read_csv(\"data/Breed_Rank.csv\")\n",
    "df_2.head()"
   ]
  },
  {
   "cell_type": "code",
   "execution_count": null,
   "metadata": {},
   "outputs": [],
   "source": [
    "df_3 = pd.read_csv(\"data/Breed_Traits.csv\")\n",
    "df_3.head()"
   ]
  },
  {
   "cell_type": "code",
   "execution_count": null,
   "metadata": {},
   "outputs": [],
   "source": [
    "df_3['Breed']"
   ]
  },
  {
   "cell_type": "code",
   "execution_count": null,
   "metadata": {},
   "outputs": [],
   "source": [
    "df[\"breed\"].value_counts()"
   ]
  },
  {
   "cell_type": "code",
   "execution_count": null,
   "metadata": {},
   "outputs": [],
   "source": [
    "aus_she = df[df[\"breed\"] == \"australian shepherd\"]\n",
    "aus_she"
   ]
  },
  {
   "cell_type": "code",
   "execution_count": null,
   "metadata": {},
   "outputs": [],
   "source": [
    "cocker = df[df[\"breed\"] == \"cocker spaniel\"]\n",
    "cocker"
   ]
  },
  {
   "cell_type": "code",
   "execution_count": null,
   "metadata": {},
   "outputs": [],
   "source": [
    "duplicated_cases = df[df.duplicated(subset=['breed'], keep=False)]\n",
    "duplicated_cases\n"
   ]
  },
  {
   "cell_type": "code",
   "execution_count": null,
   "metadata": {},
   "outputs": [],
   "source": [
    "duplicated_cases_sorted = duplicated_cases.sort_values(by='breed')\n",
    "duplicated_cases_sorted\n"
   ]
  },
  {
   "cell_type": "code",
   "execution_count": null,
   "metadata": {},
   "outputs": [],
   "source": [
    "df = df.drop_duplicates(subset=['breed'], keep='first')\n",
    "df\n"
   ]
  },
  {
   "cell_type": "code",
   "execution_count": null,
   "metadata": {},
   "outputs": [],
   "source": [
    "df.shape"
   ]
  },
  {
   "cell_type": "code",
   "execution_count": null,
   "metadata": {},
   "outputs": [],
   "source": [
    "import difflib\n",
    "import pandas as pd"
   ]
  },
  {
   "cell_type": "code",
   "execution_count": null,
   "metadata": {},
   "outputs": [],
   "source": [
    "\n",
    "\n",
    "# Lista de razas únicas en df2\n",
    "unique_breeds_df2 = df_2['Breed'].unique()\n",
    "\n",
    "# Función para encontrar la mejor coincidencia para cada raza en df1\n",
    "def find_best_match(breed_name, possible_matches):\n",
    "    return difflib.get_close_matches(breed_name, possible_matches, n=1, cutoff=0.6)\n",
    "\n",
    "# Iterar sobre cada raza en df1 y encontrar la mejor coincidencia en df2\n",
    "matches = []\n",
    "for breed in df['breed']:\n",
    "    match = find_best_match(breed, unique_breeds_df2)\n",
    "    if match:\n",
    "        matches.append({'Breed_df1': breed, 'Best_match_df2': match[0]})\n",
    "\n",
    "# Crear un DataFrame con las coincidencias encontradas\n",
    "matches_df = pd.DataFrame(matches)\n",
    "\n"
   ]
  },
  {
   "cell_type": "code",
   "execution_count": null,
   "metadata": {},
   "outputs": [],
   "source": [
    "matches_df"
   ]
  },
  {
   "cell_type": "code",
   "execution_count": null,
   "metadata": {},
   "outputs": [],
   "source": [
    "df_2[\"Breed\"].value_counts()"
   ]
  },
  {
   "cell_type": "code",
   "execution_count": null,
   "metadata": {},
   "outputs": [],
   "source": [
    "df_2.shape"
   ]
  },
  {
   "cell_type": "code",
   "execution_count": null,
   "metadata": {},
   "outputs": [],
   "source": [
    "df.shape"
   ]
  },
  {
   "cell_type": "code",
   "execution_count": null,
   "metadata": {},
   "outputs": [],
   "source": [
    "# Filtrar las filas donde la columna 'Breed' contiene la palabra 'spaniel'\n",
    "spaniel_cases = df[df['breed'].str.contains('spaniel', case=False)]\n",
    "\n",
    "# Contar el número de casos que contienen la palabra 'spaniel'\n",
    "count_spaniel_cases = len(spaniel_cases)\n",
    "\n",
    "# También puedes imprimir el DataFrame 'spaniel_cases' para ver esos casos específicos\n",
    "print(spaniel_cases)\n",
    "\n",
    "# Imprimir el número total de casos que contienen la palabra 'spaniel'\n",
    "print(f\"Total de casos de 'spaniel': {count_spaniel_cases}\")\n"
   ]
  },
  {
   "cell_type": "code",
   "execution_count": null,
   "metadata": {},
   "outputs": [],
   "source": [
    "spaniel_cases = df[df['breed'].str.contains('spaniel', case=False)]\n",
    "spaniel_cases"
   ]
  },
  {
   "cell_type": "code",
   "execution_count": null,
   "metadata": {},
   "outputs": [],
   "source": [
    "spaniel_cases_2 = df_2[df_2['Breed'].str.contains('spaniel', case=False)]\n",
    "spaniel_cases_2"
   ]
  },
  {
   "cell_type": "markdown",
   "metadata": {},
   "source": [
    "### listado de los no match "
   ]
  },
  {
   "cell_type": "code",
   "execution_count": null,
   "metadata": {},
   "outputs": [],
   "source": [
    "matches = []\n",
    "no_matches = []\n",
    "\n",
    "for breed in df['breed']:\n",
    "    match = find_best_match(breed, unique_breeds_df2)\n",
    "    if match:\n",
    "        matches.append({'Breed_df1': breed, 'Best_match_df2': match[0]})\n",
    "    else: \n",
    "        no_matches.append({'Breed_df1': breed})"
   ]
  },
  {
   "cell_type": "code",
   "execution_count": null,
   "metadata": {},
   "outputs": [],
   "source": [
    "matches_df = pd.DataFrame(matches)\n",
    "matches_df"
   ]
  },
  {
   "cell_type": "code",
   "execution_count": null,
   "metadata": {},
   "outputs": [],
   "source": [
    "no_matches_df = pd.DataFrame(no_matches)\n",
    "no_matches_df"
   ]
  },
  {
   "cell_type": "code",
   "execution_count": null,
   "metadata": {},
   "outputs": [],
   "source": [
    "no_matches_df['Breed_df1']= no_matches_df['Breed_df1'].apply(lambda x: ' '.join(reversed(x.split())))"
   ]
  },
  {
   "cell_type": "code",
   "execution_count": null,
   "metadata": {},
   "outputs": [],
   "source": [
    "df_2['Breed'] = df_2['Breed'].apply(lambda x: x.replace('(','').replace(')',''))"
   ]
  },
  {
   "cell_type": "markdown",
   "metadata": {},
   "source": [
    "### busco los labels de los que NO han hecho match en df "
   ]
  },
  {
   "cell_type": "code",
   "execution_count": null,
   "metadata": {},
   "outputs": [],
   "source": [
    "no_matches_labels = no_matches_df['Breed_df1'].tolist()\n",
    "no_matches_labels"
   ]
  },
  {
   "cell_type": "markdown",
   "metadata": {},
   "source": [
    "### aqui busco para que me gire las palabras de de estos casos"
   ]
  },
  {
   "cell_type": "code",
   "execution_count": null,
   "metadata": {},
   "outputs": [],
   "source": [
    "df.loc[df['breed'].isin(no_matches_labels), 'breed'] = df.loc[df['breed'].isin(no_matches_labels), 'breed'].apply(lambda x: ' '.join(reversed(x.split())) if pd.notnull(x) else x)"
   ]
  },
  {
   "cell_type": "code",
   "execution_count": null,
   "metadata": {},
   "outputs": [],
   "source": [
    "df"
   ]
  },
  {
   "cell_type": "code",
   "execution_count": null,
   "metadata": {},
   "outputs": [],
   "source": [
    "df_2"
   ]
  },
  {
   "cell_type": "code",
   "execution_count": null,
   "metadata": {},
   "outputs": [],
   "source": [
    "matches = []\n",
    "no_matches = []\n",
    "\n",
    "for breed in df['breed']:\n",
    "    match = find_best_match(breed, unique_breeds_df2)\n",
    "    if match:\n",
    "        matches.append({'Breed_df1': breed, 'Best_match_df2': match[0]})\n",
    "    else: \n",
    "        no_matches.append({'Breed_df1': breed})"
   ]
  },
  {
   "cell_type": "code",
   "execution_count": null,
   "metadata": {},
   "outputs": [],
   "source": [
    "matches_df = pd.DataFrame(matches)\n",
    "matches_df"
   ]
  },
  {
   "cell_type": "code",
   "execution_count": null,
   "metadata": {},
   "outputs": [],
   "source": [
    "no_matches_df = pd.DataFrame(no_matches)\n",
    "no_matches_df"
   ]
  },
  {
   "cell_type": "markdown",
   "metadata": {},
   "source": [
    "pug == pugs \n",
    "africanis == none \n",
    "bulldog american == none \n",
    "corgi welsh == none \n",
    "spaniel springer welsh == Spaniels (Welsh Springer) \n",
    "spaniel water irish == Spaniels (Irish Water)\n",
    "dog leopard catahoula == none \n",
    "poodleminiature == none \n",
    "poodle standard == none \n",
    "poodle toy == none \n",
    "pei shar == Chinese Shar-Pei "
   ]
  },
  {
   "cell_type": "markdown",
   "metadata": {},
   "source": [
    "### cambiamos nombres de perro del df para que coincidan"
   ]
  },
  {
   "cell_type": "code",
   "execution_count": null,
   "metadata": {},
   "outputs": [],
   "source": [
    "dogs_1 = {\"pug\": \"pugs\", \"pei shar\": \"Chinese Shar-Pei\", \"spaniel springer welsh\": \"Spaniels Welsh Springer\", \"spaniel springer welsh\": \"Spaniels Irish Water\"}"
   ]
  },
  {
   "cell_type": "code",
   "execution_count": null,
   "metadata": {},
   "outputs": [],
   "source": [
    "df[\"breed\"] = df[\"breed\"].replace(dogs_1)"
   ]
  },
  {
   "cell_type": "code",
   "execution_count": null,
   "metadata": {},
   "outputs": [],
   "source": [
    "df[\"breed\"]"
   ]
  },
  {
   "cell_type": "code",
   "execution_count": null,
   "metadata": {},
   "outputs": [],
   "source": [
    "dogs_drop = [\"africanis\", \"bulldog american\", \"corgi welsh\", \"dog leopart catahoula\", \"poodle miniature\", \"poodle standard\", \"poodel toy\"]"
   ]
  },
  {
   "cell_type": "code",
   "execution_count": null,
   "metadata": {},
   "outputs": [],
   "source": [
    "df = df.loc[~df[\"breed\"].isin(dogs_drop)]\n",
    "df"
   ]
  },
  {
   "cell_type": "markdown",
   "metadata": {},
   "source": [
    "pug == pugs \n",
    "africanis == none \n",
    "bulldog american == none \n",
    "corgi welsh == none \n",
    "spaniel springer welsh == Spaniels (Welsh Springer) \n",
    "spaniel water irish == Spaniels (Irish Water)\n",
    "dog leopard catahoula == none \n",
    "poodleminiature == none \n",
    "poodle standard == none \n",
    "poodle toy == none \n",
    "pei shar == Chinese Shar-Pei "
   ]
  },
  {
   "cell_type": "code",
   "execution_count": null,
   "metadata": {},
   "outputs": [],
   "source": [
    "matches = []\n",
    "no_matches = []\n",
    "\n",
    "for breed in df['breed']:\n",
    "    match = find_best_match(breed, unique_breeds_df2)\n",
    "    if match:\n",
    "        matches.append({'Breed_df1': breed, 'Best_match_df2': match[0]})\n",
    "    else: \n",
    "        no_matches.append({'Breed_df1': breed})"
   ]
  },
  {
   "cell_type": "code",
   "execution_count": null,
   "metadata": {},
   "outputs": [],
   "source": [
    "matches_df = pd.DataFrame(matches)\n",
    "matches_df"
   ]
  },
  {
   "cell_type": "code",
   "execution_count": null,
   "metadata": {},
   "outputs": [],
   "source": [
    "no_matches_df = pd.DataFrame(no_matches)\n",
    "no_matches_df"
   ]
  },
  {
   "cell_type": "code",
   "execution_count": null,
   "metadata": {},
   "outputs": [],
   "source": [
    "sorted_df_2 = df_2.sort_values(by=\"Breed\", ascending=True)\n",
    "sorted_df_2"
   ]
  }
 ],
 "metadata": {
  "kernelspec": {
   "display_name": "base",
   "language": "python",
   "name": "python3"
  },
  "language_info": {
   "codemirror_mode": {
    "name": "ipython",
    "version": 3
   },
   "file_extension": ".py",
   "mimetype": "text/x-python",
   "name": "python",
   "nbconvert_exporter": "python",
   "pygments_lexer": "ipython3",
   "version": "3.11.5"
  }
 },
 "nbformat": 4,
 "nbformat_minor": 2
}
