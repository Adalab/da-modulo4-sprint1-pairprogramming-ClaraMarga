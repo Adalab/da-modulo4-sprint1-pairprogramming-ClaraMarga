{
 "cells": [
  {
   "cell_type": "code",
   "execution_count": 1,
   "metadata": {},
   "outputs": [],
   "source": [
    "import pandas as pd"
   ]
  },
  {
   "cell_type": "code",
   "execution_count": 3,
   "metadata": {},
   "outputs": [
    {
     "data": {
      "text/html": [
       "<div>\n",
       "<style scoped>\n",
       "    .dataframe tbody tr th:only-of-type {\n",
       "        vertical-align: middle;\n",
       "    }\n",
       "\n",
       "    .dataframe tbody tr th {\n",
       "        vertical-align: top;\n",
       "    }\n",
       "\n",
       "    .dataframe thead th {\n",
       "        text-align: right;\n",
       "    }\n",
       "</style>\n",
       "<table border=\"1\" class=\"dataframe\">\n",
       "  <thead>\n",
       "    <tr style=\"text-align: right;\">\n",
       "      <th></th>\n",
       "      <th>Breed</th>\n",
       "      <th>Country of Origin</th>\n",
       "      <th>Fur Color</th>\n",
       "      <th>Height (in)</th>\n",
       "      <th>Color of Eyes</th>\n",
       "      <th>Longevity (yrs)</th>\n",
       "      <th>Character Traits</th>\n",
       "      <th>Common Health Problems</th>\n",
       "    </tr>\n",
       "  </thead>\n",
       "  <tbody>\n",
       "    <tr>\n",
       "      <th>0</th>\n",
       "      <td>Labrador Retriever</td>\n",
       "      <td>Canada</td>\n",
       "      <td>Yellow, Black, Chocolate</td>\n",
       "      <td>21-24</td>\n",
       "      <td>Brown</td>\n",
       "      <td>10-12</td>\n",
       "      <td>Loyal, friendly, intelligent, energetic, good-...</td>\n",
       "      <td>Hip dysplasia, obesity, ear infections</td>\n",
       "    </tr>\n",
       "    <tr>\n",
       "      <th>1</th>\n",
       "      <td>German Shepherd</td>\n",
       "      <td>Germany</td>\n",
       "      <td>Black, Tan</td>\n",
       "      <td>22-26</td>\n",
       "      <td>Brown</td>\n",
       "      <td>7-10</td>\n",
       "      <td>Loyal, intelligent, protective, confident, tra...</td>\n",
       "      <td>Hip dysplasia, elbow dysplasia, pancreatitis</td>\n",
       "    </tr>\n",
       "    <tr>\n",
       "      <th>2</th>\n",
       "      <td>Bulldog</td>\n",
       "      <td>England</td>\n",
       "      <td>White, Red</td>\n",
       "      <td>12-16</td>\n",
       "      <td>Brown</td>\n",
       "      <td>8-10</td>\n",
       "      <td>Loyal, calm, gentle, brave</td>\n",
       "      <td>Skin allergies, respiratory issues, obesity</td>\n",
       "    </tr>\n",
       "    <tr>\n",
       "      <th>3</th>\n",
       "      <td>Poodle</td>\n",
       "      <td>France</td>\n",
       "      <td>White, Black, Brown, Apricot</td>\n",
       "      <td>10-15</td>\n",
       "      <td>Brown, Blue</td>\n",
       "      <td>12-15</td>\n",
       "      <td>Intelligent, active, affectionate, hypoallergenic</td>\n",
       "      <td>Hip dysplasia, epilepsy, bladder stones</td>\n",
       "    </tr>\n",
       "    <tr>\n",
       "      <th>4</th>\n",
       "      <td>Beagle</td>\n",
       "      <td>England</td>\n",
       "      <td>White, Tan, Red, Lemon</td>\n",
       "      <td>13-15</td>\n",
       "      <td>Brown</td>\n",
       "      <td>12-15</td>\n",
       "      <td>Curious, friendly, energetic, good-natured</td>\n",
       "      <td>Ear infections, hip dysplasia, epilepsy</td>\n",
       "    </tr>\n",
       "  </tbody>\n",
       "</table>\n",
       "</div>"
      ],
      "text/plain": [
       "                Breed Country of Origin                     Fur Color  \\\n",
       "0  Labrador Retriever            Canada      Yellow, Black, Chocolate   \n",
       "1     German Shepherd           Germany                    Black, Tan   \n",
       "2             Bulldog           England                    White, Red   \n",
       "3              Poodle            France  White, Black, Brown, Apricot   \n",
       "4              Beagle           England        White, Tan, Red, Lemon   \n",
       "\n",
       "  Height (in) Color of Eyes Longevity (yrs)  \\\n",
       "0       21-24         Brown           10-12   \n",
       "1       22-26         Brown            7-10   \n",
       "2       12-16         Brown            8-10   \n",
       "3       10-15   Brown, Blue           12-15   \n",
       "4       13-15         Brown           12-15   \n",
       "\n",
       "                                    Character Traits  \\\n",
       "0  Loyal, friendly, intelligent, energetic, good-...   \n",
       "1  Loyal, intelligent, protective, confident, tra...   \n",
       "2                         Loyal, calm, gentle, brave   \n",
       "3  Intelligent, active, affectionate, hypoallergenic   \n",
       "4         Curious, friendly, energetic, good-natured   \n",
       "\n",
       "                         Common Health Problems  \n",
       "0        Hip dysplasia, obesity, ear infections  \n",
       "1  Hip dysplasia, elbow dysplasia, pancreatitis  \n",
       "2   Skin allergies, respiratory issues, obesity  \n",
       "3       Hip dysplasia, epilepsy, bladder stones  \n",
       "4       Ear infections, hip dysplasia, epilepsy  "
      ]
     },
     "execution_count": 3,
     "metadata": {},
     "output_type": "execute_result"
    }
   ],
   "source": [
    "df = pd.read_csv(\"dog_breeds.csv\")\n",
    "df.head()"
   ]
  },
  {
   "cell_type": "code",
   "execution_count": 4,
   "metadata": {},
   "outputs": [
    {
     "name": "stdout",
     "output_type": "stream",
     "text": [
      "<class 'pandas.core.frame.DataFrame'>\n",
      "RangeIndex: 117 entries, 0 to 116\n",
      "Data columns (total 8 columns):\n",
      " #   Column                  Non-Null Count  Dtype \n",
      "---  ------                  --------------  ----- \n",
      " 0   Breed                   117 non-null    object\n",
      " 1   Country of Origin       117 non-null    object\n",
      " 2   Fur Color               117 non-null    object\n",
      " 3   Height (in)             117 non-null    object\n",
      " 4   Color of Eyes           117 non-null    object\n",
      " 5   Longevity (yrs)         117 non-null    object\n",
      " 6   Character Traits        117 non-null    object\n",
      " 7   Common Health Problems  117 non-null    object\n",
      "dtypes: object(8)\n",
      "memory usage: 7.4+ KB\n"
     ]
    }
   ],
   "source": [
    "df.info()"
   ]
  }
 ],
 "metadata": {
  "kernelspec": {
   "display_name": "base",
   "language": "python",
   "name": "python3"
  },
  "language_info": {
   "codemirror_mode": {
    "name": "ipython",
    "version": 3
   },
   "file_extension": ".py",
   "mimetype": "text/x-python",
   "name": "python",
   "nbconvert_exporter": "python",
   "pygments_lexer": "ipython3",
   "version": "3.9.7"
  }
 },
 "nbformat": 4,
 "nbformat_minor": 2
}
